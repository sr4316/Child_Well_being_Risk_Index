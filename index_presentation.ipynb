{
 "cells": [
  {
   "cell_type": "markdown",
   "id": "a461d92e",
   "metadata": {},
   "source": [
    "# Child Well-being Risk Index\n",
    "\n",
    "\n",
    "This index is to assess the risk to the well-being status of children around the world. \n",
    "\n",
    "The index covers the following list of countries: 'AFG', 'DZA', 'ARM', 'AZE', 'BGD', 'BEN', 'BRA', 'BFA', 'BDI',\n",
    "       'KHM', 'CMR', 'TCD', 'CHL', 'COL', 'COD', 'COG', 'CRI', 'CIV',\n",
    "       'DOM', 'ECU', 'EGY', 'SLV', 'ETH', 'GAB', 'GEO', 'GTM', 'HND',\n",
    "       'IDN', 'JOR', 'KAZ', 'KGZ', 'MDG', 'MLI', 'MRT', 'MEX', 'MDA',\n",
    "       'MNG', 'NIC', 'NER', 'MKD', 'PAK', 'PAN', 'PRY', 'PER', 'ROU',\n",
    "       'SEN', 'SRB', 'LKA', 'THA', 'TGO', 'TTO', 'TUN', 'TUR', 'UGA',\n",
    "       'UKR', 'URY', 'VNM', 'YEM'\n",
    "       \n",
    "       \n",
    "       \n",
    "      "
   ]
  },
  {
   "cell_type": "code",
   "execution_count": 13,
   "id": "1b1cb6bf",
   "metadata": {},
   "outputs": [],
   "source": [
    "import pandas as pd\n",
    "from CWBR_index import make_index\n",
    "from plots import pca_plot"
   ]
  },
  {
   "cell_type": "markdown",
   "id": "f00f1e1c",
   "metadata": {},
   "source": [
    "## Data"
   ]
  },
  {
   "cell_type": "code",
   "execution_count": 14,
   "id": "e0a3bea7",
   "metadata": {},
   "outputs": [
    {
     "data": {
      "text/html": [
       "<div>\n",
       "<style scoped>\n",
       "    .dataframe tbody tr th:only-of-type {\n",
       "        vertical-align: middle;\n",
       "    }\n",
       "\n",
       "    .dataframe tbody tr th {\n",
       "        vertical-align: top;\n",
       "    }\n",
       "\n",
       "    .dataframe thead th {\n",
       "        text-align: right;\n",
       "    }\n",
       "</style>\n",
       "<table border=\"1\" class=\"dataframe\">\n",
       "  <thead>\n",
       "    <tr style=\"text-align: right;\">\n",
       "      <th></th>\n",
       "      <th></th>\n",
       "      <th>education_learning_poverty</th>\n",
       "      <th>education_school_out</th>\n",
       "      <th>health_immunization</th>\n",
       "      <th>health_mortality</th>\n",
       "      <th>labor_employment_total</th>\n",
       "      <th>labor_hour_total</th>\n",
       "      <th>nourishment_stunting</th>\n",
       "      <th>nourishment_underweight</th>\n",
       "    </tr>\n",
       "    <tr>\n",
       "      <th>ISO</th>\n",
       "      <th>Year</th>\n",
       "      <th></th>\n",
       "      <th></th>\n",
       "      <th></th>\n",
       "      <th></th>\n",
       "      <th></th>\n",
       "      <th></th>\n",
       "      <th></th>\n",
       "      <th></th>\n",
       "    </tr>\n",
       "  </thead>\n",
       "  <tbody>\n",
       "    <tr>\n",
       "      <th rowspan=\"5\" valign=\"top\">AFG</th>\n",
       "      <th>1962</th>\n",
       "      <td>93.447998</td>\n",
       "      <td>49.599998</td>\n",
       "      <td>96.0</td>\n",
       "      <td>34.46</td>\n",
       "      <td>9.3</td>\n",
       "      <td>13.1</td>\n",
       "      <td>53.2</td>\n",
       "      <td>44.9</td>\n",
       "    </tr>\n",
       "    <tr>\n",
       "      <th>1963</th>\n",
       "      <td>93.447998</td>\n",
       "      <td>49.599998</td>\n",
       "      <td>96.0</td>\n",
       "      <td>33.87</td>\n",
       "      <td>9.3</td>\n",
       "      <td>13.1</td>\n",
       "      <td>53.2</td>\n",
       "      <td>44.9</td>\n",
       "    </tr>\n",
       "    <tr>\n",
       "      <th>1964</th>\n",
       "      <td>93.447998</td>\n",
       "      <td>49.599998</td>\n",
       "      <td>96.0</td>\n",
       "      <td>33.31</td>\n",
       "      <td>9.3</td>\n",
       "      <td>13.1</td>\n",
       "      <td>53.2</td>\n",
       "      <td>44.9</td>\n",
       "    </tr>\n",
       "    <tr>\n",
       "      <th>1965</th>\n",
       "      <td>93.447998</td>\n",
       "      <td>49.599998</td>\n",
       "      <td>96.0</td>\n",
       "      <td>32.76</td>\n",
       "      <td>9.3</td>\n",
       "      <td>13.1</td>\n",
       "      <td>53.2</td>\n",
       "      <td>44.9</td>\n",
       "    </tr>\n",
       "    <tr>\n",
       "      <th>1966</th>\n",
       "      <td>93.447998</td>\n",
       "      <td>49.599998</td>\n",
       "      <td>96.0</td>\n",
       "      <td>32.20</td>\n",
       "      <td>9.3</td>\n",
       "      <td>13.1</td>\n",
       "      <td>53.2</td>\n",
       "      <td>44.9</td>\n",
       "    </tr>\n",
       "  </tbody>\n",
       "</table>\n",
       "</div>"
      ],
      "text/plain": [
       "          education_learning_poverty  education_school_out  \\\n",
       "ISO Year                                                     \n",
       "AFG 1962                   93.447998             49.599998   \n",
       "    1963                   93.447998             49.599998   \n",
       "    1964                   93.447998             49.599998   \n",
       "    1965                   93.447998             49.599998   \n",
       "    1966                   93.447998             49.599998   \n",
       "\n",
       "          health_immunization  health_mortality  labor_employment_total  \\\n",
       "ISO Year                                                                  \n",
       "AFG 1962                 96.0             34.46                     9.3   \n",
       "    1963                 96.0             33.87                     9.3   \n",
       "    1964                 96.0             33.31                     9.3   \n",
       "    1965                 96.0             32.76                     9.3   \n",
       "    1966                 96.0             32.20                     9.3   \n",
       "\n",
       "          labor_hour_total  nourishment_stunting  nourishment_underweight  \n",
       "ISO Year                                                                   \n",
       "AFG 1962              13.1                  53.2                     44.9  \n",
       "    1963              13.1                  53.2                     44.9  \n",
       "    1964              13.1                  53.2                     44.9  \n",
       "    1965              13.1                  53.2                     44.9  \n",
       "    1966              13.1                  53.2                     44.9  "
      ]
     },
     "execution_count": 14,
     "metadata": {},
     "output_type": "execute_result"
    }
   ],
   "source": [
    "df = (\n",
    "    pd.read_csv('data/data.csv')\n",
    "      .set_index(['ISO', 'Year'])\n",
    "      .drop(columns=['Country'])\n",
    "      .dropna()\n",
    ")\n",
    "\n",
    "df.head(5)"
   ]
  },
  {
   "cell_type": "markdown",
   "id": "d9bf31f3",
   "metadata": {},
   "source": [
    "## The index\n",
    "\n",
    "We perform Principal Components Analysis (PCA) on 8 indicators and adopt the first principal component as our index system. \n",
    "\n",
    "The lower the index, the lower the risk to children's well-being in a country. \n"
   ]
  },
  {
   "cell_type": "code",
   "execution_count": 3,
   "id": "bfe11881",
   "metadata": {},
   "outputs": [],
   "source": [
    "pipe, PC_df, X_proj, Variance_df = make_index(df)"
   ]
  },
  {
   "cell_type": "code",
   "execution_count": 4,
   "id": "d788f1a2",
   "metadata": {},
   "outputs": [
    {
     "data": {
      "image/png": "[encoded data removed]",
      "text/plain": [
       "<Figure size 576x576 with 1 Axes>"
      ]
     },
     "metadata": {},
     "output_type": "display_data"
    }
   ],
   "source": [
    "pca_plot(pipe['pca'], labels=df.columns, figsize=(8, 8))"
   ]
  },
  {
   "cell_type": "markdown",
   "id": "7cddc8da",
   "metadata": {},
   "source": [
    "## Vizualisations"
   ]
  },
  {
   "cell_type": "code",
   "execution_count": null,
   "id": "5fe70d9c",
   "metadata": {
    "scrolled": true
   },
   "outputs": [],
   "source": [
    "plot_df = X_proj.reset_index()\n",
    "fig_scatter = px.scatter(plot_df, \n",
    "          x = 'Year',\n",
    "          y = 'PC_1',\n",
    "          color = 'ISO')\n",
    "fig_line = px.line(plot_df, \n",
    "          x = 'Year',\n",
    "          y = 'PC_1',\n",
    "          color = 'ISO')\n",
    "fig_scatter.add_traces(fig_line.data)"
   ]
  },
  {
   "cell_type": "code",
   "execution_count": null,
   "id": "07ab85c4",
   "metadata": {},
   "outputs": [],
   "source": [
    "X_proj.loc[:, :, [1970, 2014]].reset_index().pivot(index=['ISO', 'Country'], columns='Year', values='PC_1').shape"
   ]
  },
  {
   "cell_type": "code",
   "execution_count": null,
   "id": "285df321",
   "metadata": {},
   "outputs": [],
   "source": [
    "X.corr()"
   ]
  },
  {
   "cell_type": "code",
   "execution_count": null,
   "id": "47cc86b9",
   "metadata": {},
   "outputs": [],
   "source": [
    "trend_df = X_proj.loc[:, :, [1981, 2019]].reset_index().pivot(index=['ISO', 'Country'], columns='Year', values='PC_1').rename(index={'Year': 'Index'}).reset_index().dropna()\n",
    "trend_df['Difference'] = trend_df[2019]-trend_df[1981]\n",
    "trend_df"
   ]
  },
  {
   "cell_type": "code",
   "execution_count": null,
   "id": "d83f5419",
   "metadata": {},
   "outputs": [],
   "source": [
    "X_proj.reset_index().query(\"ISO == 'WLD'\").plot(kind='line', x='Year', y='PC_1')"
   ]
  },
  {
   "cell_type": "code",
   "execution_count": null,
   "id": "6b491843",
   "metadata": {},
   "outputs": [],
   "source": [
    "X_proj.reset_index().ISO.unique()"
   ]
  },
  {
   "cell_type": "code",
   "execution_count": null,
   "id": "50649879",
   "metadata": {},
   "outputs": [],
   "source": [
    "X_adj = X_proj.reset_index().merge(ISO_to_Everything(X_proj.reset_index()['ISO']).drop_duplicates().reset_index(), on = 'ISO')#[['Continent', 'IncomeLevel']].index.unique()"
   ]
  },
  {
   "cell_type": "code",
   "execution_count": null,
   "id": "971b6219",
   "metadata": {},
   "outputs": [],
   "source": [
    "fig, (ax1, ax2) = plt.subplots(1, 2, figsize=(14, 7))\n",
    "sns.scatterplot(data=X_adj, x='PC_1', y='PC_2', hue='IncomeLevel', ax=ax1)\n",
    "sns.scatterplot(data=PC_df.reset_index(), x='PC_1', y='PC_2', hue='Variable', ax=ax2)"
   ]
  },
  {
   "cell_type": "code",
   "execution_count": null,
   "id": "ecfc400e",
   "metadata": {
    "scrolled": true
   },
   "outputs": [],
   "source": [
    "fig, (ax1, ax2) = plt.subplots(1, 2, figsize=(14, 7))\n",
    "sns.scatterplot(data=X_adj.query('Year == 2017'), x='PC_1', y='PC_2', hue='IncomeLevel', ax=ax1)\n",
    "sns.scatterplot(data=PC_df.reset_index(), x='PC_1', y='PC_2', hue='Variable', ax=ax2)"
   ]
  },
  {
   "cell_type": "code",
   "execution_count": null,
   "id": "2e1a61ec",
   "metadata": {},
   "outputs": [],
   "source": [
    "fig, (ax1, ax2) = plt.subplots(1, 2, figsize=(14, 7))\n",
    "sns.scatterplot(data=X_adj.query('Year >1980'), x='Year', y='PC_1', hue='IncomeLevel', ax=ax1)\n",
    "sns.scatterplot(data=X_adj.query('Year >1980'), x='Year', y='PC_1', hue='ISO', ax=ax2)"
   ]
  },
  {
   "cell_type": "code",
   "execution_count": null,
   "id": "5cde4b2f",
   "metadata": {},
   "outputs": [],
   "source": [
    "X.corr()"
   ]
  },
  {
   "cell_type": "code",
   "execution_count": null,
   "id": "43d46580",
   "metadata": {},
   "outputs": [],
   "source": [
    "\n",
    "# variables = ['health_immunization', 'health_mortality', 'health_stunting', 'health_malnutrition']\n",
    "# b_columns = ['Country', 'ISO', 'Year']\n",
    "# a = result_df.loc[:, variables].values\n",
    "# b = result_df.loc[:,b_columns].values\n",
    "\n",
    "# a = StandardScaler().fit_transform(a)\n",
    "# b"
   ]
  },
  {
   "cell_type": "code",
   "execution_count": null,
   "id": "81c0c438",
   "metadata": {},
   "outputs": [],
   "source": [
    "\n",
    "pca = PCA(n_components = 2)\n",
    "\n",
    "principalComponents = pca.fit_transform(a)\n",
    "\n",
    "principalDf = pd.DataFrame(data = principalComponents, columns = ['principal component 1', 'principal component 2'])\n",
    "principalDf"
   ]
  },
  {
   "cell_type": "code",
   "execution_count": null,
   "id": "99328e6f",
   "metadata": {},
   "outputs": [],
   "source": [
    "indexDf = pd.DataFrame(data = b, columns = ['Country', 'ISO', 'Year'])\n",
    "finalDf = pd.concat([principalDf, indexDf], axis = 1)\n",
    "finalDf['Index'] = finalDf['Country']+finalDf['ISO']+str(finalDf.Year)\n",
    "str(finalDf['Year'])\n",
    "finalDf[['Country', 'ISO','Year']]\n",
    "finalDf"
   ]
  },
  {
   "cell_type": "code",
   "execution_count": null,
   "id": "cda2270c",
   "metadata": {},
   "outputs": [],
   "source": [
    "weights = pca.components_\n",
    "#weights[0][0]+weights[0][1]+weights[0][2]+weights[0][3]\n",
    "sum(weights[0])"
   ]
  },
  {
   "cell_type": "code",
   "execution_count": null,
   "id": "6631a132",
   "metadata": {},
   "outputs": [],
   "source": [
    "finalDf.ISO.unique()"
   ]
  },
  {
   "cell_type": "code",
   "execution_count": null,
   "id": "857a805f",
   "metadata": {},
   "outputs": [],
   "source": [
    "plot_df = finalDf\n",
    "fig_scatter = px.scatter(plot_df, \n",
    "          x = 'principal component 1',\n",
    "          y = 'principal component 2',\n",
    "          color = 'Variable')\n",
    "fig_line = px.line(plot_df, \n",
    "          x = 'principal component 1',\n",
    "          y = 'principal component 2',\n",
    "          color = 'Variable')\n",
    "fig_scatter.add_traces(fig_line.data)"
   ]
  },
  {
   "cell_type": "code",
   "execution_count": null,
   "id": "7d964853",
   "metadata": {},
   "outputs": [],
   "source": [
    "fig = plt.figure(figsize = (8,8))\n",
    "ax = fig.add_subplot(1,1,1)\n",
    "ax.set_xlabel('Principal Component 1', fontsize = 15)\n",
    "ax.set_ylabel('Principal Component 2', fontsize = 15)\n",
    "ax.set_title('2 Component PCA', fontsize = 20)\n",
    "\n",
    "ISOs = ['AFG', 'AFE', 'AFW', 'ALB', 'DZA', 'AND', 'AGO', 'ATG', 'ARB',\n",
    "       'ARG', 'ARM', 'AUS', 'AUT', 'AZE', 'BHS', 'BHR', 'BGD', 'BRB',\n",
    "       'BLR', 'BEL', 'BLZ', 'BEN', 'BTN', 'BOL', 'BIH', 'BWA', 'BRA',\n",
    "       'BRN', 'BGR', 'BFA', 'BDI', 'CPV', 'KHM', 'CMR', 'CAN', 'CSS',\n",
    "       'CAF', 'CEB', 'TCD', 'CHL', 'CHN', 'COL', 'COM', 'COD', 'COG',\n",
    "       'CRI', 'CIV', 'HRV', 'CUB', 'CYP', 'CZE', 'DNK', 'DJI', 'DMA',\n",
    "       'DOM', 'EAR', 'EAS', 'TEA', 'EAP', 'ECU', 'EGY', 'SLV', 'GNQ',\n",
    "       'ERI', 'EST', 'SWZ', 'ETH', 'EMU', 'ECS', 'TEC', 'ECA', 'EUU',\n",
    "       'FJI', 'FIN', 'FCS', 'FRA', 'GAB', 'GMB', 'GEO', 'DEU', 'GHA',\n",
    "       'GRC', 'GRD', 'GTM', 'GIN', 'GNB', 'GUY', 'HTI', 'HPC', 'HND',\n",
    "       'HUN', 'IBD', 'IBT', 'IDB', 'IDX', 'IDA', 'ISL', 'IND', 'IDN',\n",
    "       'IRN', 'IRQ', 'IRL', 'ISR', 'ITA', 'JAM', 'JPN', 'JOR', 'KAZ',\n",
    "       'KEN', 'KIR', 'PRK', 'KOR', 'XKX', 'KWT', 'KGZ', 'LAO', 'LTE',\n",
    "       'LCN', 'LAC', 'TLA', 'LVA', 'LDC', 'LBN', 'LSO', 'LBR', 'LBY',\n",
    "       'LTU', 'LMY', 'LUX', 'MDG', 'MWI', 'MYS', 'MDV', 'MLI', 'MLT',\n",
    "       'MHL', 'MRT', 'MUS', 'MEX', 'FSM', 'MEA', 'TMN', 'MNA', 'MIC',\n",
    "       'MDA', 'MCO', 'MNG', 'MNE', 'MAR', 'MOZ', 'MMR', 'NAM', 'NRU',\n",
    "       'NPL', 'NLD', 'NZL', 'NIC', 'NER', 'NGA', 'NAC', 'MKD', 'NOR',\n",
    "       'OED', 'OMN', 'OSS', 'PSS', 'PAK', 'PLW', 'PAN', 'PNG', 'PRY',\n",
    "       'PER', 'PHL', 'POL', 'PRT', 'PST', 'PRE', 'QAT', 'ROU', 'RUS',\n",
    "       'RWA', 'WSM', 'SMR', 'STP', 'SAU', 'SEN', 'SRB', 'SYC', 'SLE',\n",
    "       'SGP', 'SVK', 'SVN', 'SST', 'SLB', 'SOM', 'ZAF', 'SAS', 'TSA',\n",
    "       'SSD', 'ESP', 'LKA', 'KNA', 'LCA', 'VCT', 'SSF', 'TSS', 'SSA',\n",
    "       'SDN', 'SUR', 'SWE', 'CHE', 'SYR', 'TJK', 'TZA', 'THA', 'TLS',\n",
    "       'TGO', 'TON', 'TTO', 'TUN', 'TUR', 'TKM', 'TUV', 'UGA', 'UKR',\n",
    "       'ARE', 'GBR', 'USA', 'URY', 'UZB', 'VUT', 'VEN', 'VNM', 'PSE',\n",
    "       'WLD', 'YEM', 'ZMB', 'ZWE']\n",
    "#color = \n",
    "for ISO, color in zip(ISOs, colors):\n",
    "    indicesToKeep = finalDf['ISO'] == ISO\n",
    "    ax.scatter(finalDf.loc[indicesToKeep, 'principal component 1']\n",
    "               , finalDf.loc[indicesToKeep, 'principal component 2']\n",
    "               , c = [color]\n",
    "               , s = 50)\n",
    "    ax.legend(ISOs)\n",
    "    ax.grid()"
   ]
  },
  {
   "cell_type": "code",
   "execution_count": null,
   "id": "db9b90b1",
   "metadata": {},
   "outputs": [],
   "source": [
    "pca.explained_variance_ratio_"
   ]
  }
 ],
 "metadata": {
  "kernelspec": {
   "display_name": "Python 3",
   "language": "python",
   "name": "python3"
  },
  "language_info": {
   "codemirror_mode": {
    "name": "ipython",
    "version": 3
   },
   "file_extension": ".py",
   "mimetype": "text/x-python",
   "name": "python",
   "nbconvert_exporter": "python",
   "pygments_lexer": "ipython3",
   "version": "3.8.8"
  }
 },
 "nbformat": 4,
 "nbformat_minor": 5
}
